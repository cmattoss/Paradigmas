   {
 "cells": [
  {
   "cell_type": "markdown",
   "metadata": {},
   "source": [
    "# Exercício 11\n",
    "\n",
    "Camila Gomes dos Reis Mattos\n",
    "\n",
    "RA: 81727341"
   ]
  },
  {
 "cells": [
  {
   "cell_type": "code",
   "execution_count": 1	,
   "metadata": {},
   "outputs": [],
   "source": [
    "from functools import reduce\n",
    "from itertools import product\n",
    "from itertools import dropwhile\n",
    "from itertools import count\n",
    "from itertools import combinations\n",
    "from itertools import permutations\n",
    "from itertools import groupby\n",
    "from itertools import cycle\n",
    "from operator import itemgetter\n",
    "from time import time\n",
    "from time import sleep\n",
    "from sys import stdout"
   ]
  },
  {
   "cell_type": "markdown",
   "metadata": {},
   "source": [
    "1 - Use map() para criar uma função que encontra o comprimento de cada palavra em uma frase (quebrada por espaços) e retorna os valores em um lista. A função deve ter como entrada uma string e como saída uma lista de inteiros.\n",
    "\n",
    "Ex: word_lengths('How long are the words in this phrase') = [3, 4, 3, 3, 5, 2, 4, 6]"
   ]
  },
  {
   "cell_type": "code",
   "execution_count": 4,
   "metadata": {},
   "outputs": [
    {
     "name": "stdout",
     "output_type": "stream",
     "text": [
      "Digite uma frase: Qual o tamanho dessa sentença\n",
      "[4, 1, 7, 5, 8]\n"
     ]
    }
   ],
   "source": [
    "word_lengths = lambda phrase: list(map(len, phrase.split(\" \")))\n",
    "\n",
    "sentence = input(\"Digite uma frase! \")\n",
    "\n",
    "assert(word_lengths('How long are the words in this phrase') == [3, 4, 3, 3, 5, 2, 4, 6])\n",
    "\n",
    "print(word_lengths(sentence))"
   ]
  },
  {
   "cell_type": "markdown",
   "metadata": {},
   "source": [
    "2 - Use reduce() para pegar uma lista de inteiros e retornar o número que corresponde à combinação destes dígitos. Por exemplo, [1,2,3] corresponde a cento e vinte e três.\n",
    "\n",
    "Ex: digits_to_num([3,4,3,2,1]) = 34321"
   ]
  },
  {
   "cell_type": "code",
   "execution_count": 4,
   "metadata": {},
   "outputs": [
    {
     "name": "stdout",
     "output_type": "stream",
     "text": [
      "Digite uma lista de números separados por espaço: 4 8 4 6 9\n",
      "48469\n"
     ]
    }
   ],
   "source": [
    "digits_to_num = lambda numbers: int(reduce(lambda x,y: str(x)+str(y), numbers))\n",
    "\n",
    "num_list = input(\"Digite uma lista de números separados por espaço: \").split(\" \")\n",
    "\n",
    "assert(digits_to_num([3,4,3,2,1]) == 34321)\n",
    "\n",
    "print(digits_to_num(num_list))"
   ]
  },
  {
   "cell_type": "markdown",
   "metadata": {},
   "source": [
    "3 - Use filter() para retornar as palavras de uma lista de palavras que comecem com uma determinada letra.\n",
    "\n",
    "Ex:\n",
    "l = ['hello','are','cat','dog','ham','hi','go','to','heart']\n",
    "filter_words(l,'h') = ['hello', 'ham', 'hi', 'heart']"
   ]
  },
  {
   "cell_type": "code",
   "execution_count":20,
   "metadata": {},
   "outputs": [
    {
     "name": "stdout",
     "output_type": "stream",
     "text": [
      "Digite palavras separadas por espaço: Pedro faca pinga Porta teto molho\n",
      "Digite a letra que deseja filtrar: P\n",
      "['Pedro', 'pinga', 'Porta']\n"
     ]
    }
   ],
   "source": [
    "filter_words = lambda lista, char: list(filter(lambda word: word[0].lower() == char.lower(), lista))\n",
    "\n",
    "words = list(input(\"Digite palavras separadas por espaço: \").split())\n",
    "choice = input(\"Digite a letra que deseja filtrar: \")\n",
    "\n",
    "assert(filter_words(['hello','are','cat','dog','ham','hi','go','to','heart'],'h') == ['hello', 'ham', 'hi', 'heart'])\n",
    "\n",
    "print(filter_words(words, choice))"
   ]
  },
  {
   "cell_type": "markdown",
   "metadata": {},
   "source": [
    "4 - Considere uma lista de cartas 'A', '2' .. '10', 'J', 'Q', 'K' e outra lista de naipes: 'P', 'E', 'O', 'C' (paus, espadas, ouros e copas). Use itertools.product para criar uma lista com todas as combinações de cartas e naipes.\n",
    "\n",
    "Ex: ['PA', 'P2', 'P3', ..., 'PQ', 'PK', 'EA', ..., 'CK']\n",
    "Ex: concatenate(['A','B'],['a','b'],'-') = ['A-a', 'B-b']"
   ]
  },
  {
   "cell_type": "code",
   "execution_count": 21,
   "metadata": {},
   "outputs": [
    {
     "name": "stdout",
     "output_type": "stream",
     "text": [
      "['PA', 'P2', 'P3', 'P4', 'P5', 'P6', 'P7', 'P8', 'P9', 'P10', 'PJ', 'PQ', 'PK', 'EA', 'E2', 'E3', 'E4', 'E5', 'E6', 'E7', 'E8', 'E9', 'E10', 'EJ', 'EQ', 'EK', 'OA', 'O2', 'O3', 'O4', 'O5', 'O6', 'O7', 'O8', 'O9', 'O10', 'OJ', 'OQ', 'OK', 'CA', 'C2', 'C3', 'C4', 'C5', 'C6', 'C7', 'C8', 'C9', 'C10', 'CJ', 'CQ', 'CK']\n"
     ]
    }
   ],
   "source": [
    "concatenate = lambda naipes, cartas, separador: list(map(lambda comb: str(comb[0]) + separador + str(comb[1]), list(product(naipes, cartas))))\n",
    "\n",
    "cards = ['A'] + [str(x) for x in range(2,11)] + ['J', 'Q', 'K']\n",
    "# cards = ['A', '2', '3', '4', '5', '6', '7', '8', '9', '10', 'J', 'Q', 'K']\n",
    "suits = ['P', 'E', 'O', 'C']\n",
    "\n",
    "assert(concatenate(['A','B'],['a','b'],'-') == ['A-a', 'A-b', 'B-a', 'B-b'])\n",
    "\n",
    "print(concatenate(suits, cards,''))"
   ]
  },
 
  {
   "cell_type": "code",
   "execution_count":25,
   "metadata": {},
   "outputs": [],
   "source": []
  },
  {
   "cell_type": "markdown",
   "metadata": {},
   "source": [
    "6 - Dado um dicionário cujas chaves sejam nomes de livros e seus respectivos valores sejam suas quantidades em estoque, use itertools.dropwhile para retornar livros com quantidade maior ou igual a 2."
   ]
  },
  {
   "cell_type": "code",
   "execution_count":27,
   "metadata": {},
   "outputs": [
    {
     "name": "stdout",
     "output_type": "stream",
     "text": [
      "['O Segredo', 'O Milagre do Amanhã', 'O Pequeno Príncipe']\n"
     ]
    }
   ],
   "source": [
    "books = {\n",
    "    'O Segredo': 12,\n",
    "    'O Milagre do Amanhã': 30,\n",
    "    'Orgulho e Preconceito': 1,\n",
    "    'Droga do Amor': 0,\n",
    "    'Os Sete': 0,\n",
    "    'O Pequeno Príncipe': 2\n",
    "}\n",
    "\n",
    "ordered_books = dict(sorted(books.items(), key=itemgetter(1), reverse=True))\n",
    "\n",
    "books_2_or_more = lambda livros, qtde: list(dropwhile(lambda livro: livros[livro] > qtde, livros.keys()))\n",
    "\n",
    "print(books_2_or_more(ordered_books, 2))"
   ]
  },
  {
   "cell_type": "markdown",
   "metadata": {},
   "source": [
    "7 - Dada uma lista de alunos, quantos pares podem ser formados? \n",
    "Use itertools.combinations."
   ]
  },
  {
   "cell_type": "code",
   "execution_count": 29,
   "metadata": {},
   "outputs": [
    {
     "name": "stdout",
     "output_type": "stream",
     "text": [
      "\n",
      "É possível formar 28 pares com essa lista de alunos:\n",
      "['Fernanda', 'Camila', 'Gabriel', 'Pedro', 'Mateus', 'Tiago', 'Brenda', 'Julia']\n"
     ]
    }
   ],
   "source": [
    "count_aluno = lambda list_alunos: len(list(combinations(list_alunos, r=2)))\n",
    "\n",
    "alunos = ['Fernanda','Camila','Gabriel','Pedro','Mateus','Tiago','Brenda','Julia']\n",
    "\n",
    "print(f\"\\n É possível formar {count_aluno(alunos)} pares com essa lista de alunos:\\n{alunos}\")\n",
    "\n",
    "# count = 0\n",
    "# for i in combinations(alunos, r=2):\n",
    "#     count += 1\n",
    "#     print(list(i))\n",
    "    \n",
    "# print(f\"\\nÉ possível formar {count} pares com essa lista de alunos:\\n{alunos}\")"
   ]
  },
  {
   "cell_type": "markdown",
   "metadata": {},
   "source": [
    "8 - Quantas palavras de 4 letras podem ser formadas a partir de uma lista de 7 letras. \n",
    "Use itertools.permutations."
   ]
  },
  {
   "cell_type": "code",
   "execution_count": 50,
   "metadata": {},
   "outputs": [
    {
     "name": "stdout",
     "output_type": "stream",
     "text": [
      "\n",
      "É possível formar 840 palavras de 4 letras com essa lista de letras:\n",
      "['a', 'b', 'e', 'c', 'i', 'd', 'g']\n"
     ]
    }
   ],
   "source": [
    "permutacao_letras = lambda list_letras, num: len(list(permutations(list_letras, num)))\n",
    "\n",
    "letras = ['a','b','e','c','i','d','g']\n",
    "permutacao = 4\n",
    "\n",
    "print(f\"\\n É possível formar {permutacao_letras(letras, permutacao)} palavras de {permutacao} letras com essa lista de letras:\\n{letras}\")\n",
    "\n",
    "# count = 0\n",
    "# r = 4\n",
    "# for i in permutations(letras, r):\n",
    "#     count += 1\n",
    "# #     print(list(i))\n",
    "\n",
    "# print(f\"\\nÉ possível formar {count} palavras de {r} letras com essa lista de letras:\\n{letras}\")"
   ]
  },
  {
   "cell_type": "markdown",
   "metadata": {},
   "source": [
    "9 - Considere um dicionário cuja chave são nomes de usuários e os respectivos valores são o meio de contato preferido (opções: e-mail, carta, whatsapp, telefone fixo, fax e celular).\n",
    "Crie uma função que retorna a quantidade de usuários que preferem e-mail.\n",
    "Use itertools.groupby()."
   ]
  },
  {
   "cell_type": "code",
   "execution_count": 59,
   "metadata": {},
   "outputs": [
    {
     "name": "stdout",
     "output_type": "stream",
     "text": [
      "A quantidade de usuários que preferem 'e-mail' é: 3\n"
     ]
    }
   ],
   "source": [
    "users = {\n",
    "    'Fernanda': 'whatsapp',\n",
    "    'Pedro': 'celular',\n",
    "    'Mateus': 'telefone fixo',\n",
    "    'Rodrigo': 'e-mail',\n",
    "    'Bruno': 'fax',\n",
    "    'Patricia': 'carta',\n",
    "    'Gabriela': 'celular',\n",
    "    'Giovanna': 'e-mail',\n",
    "    'Murilo': 'e-mail',\n",
    "    'Lucas': 'whatsapp'\n",
    "}\n",
    "\n",
    "def countUserByMethod(users_dict, method):\n",
    "    users_dict = {k: v for k, v in sorted(users_dict.items(), key=lambda item: item[1])}\n",
    "\n",
    "    for key, group in groupby(users_dict.keys(), lambda user: users_dict[user]):\n",
    "        if key == method:\n",
    "            return len(list(group))\n",
    "    return 0\n",
    "\n",
    "method = 'e-mail'\n",
    "\n",
    "print(f\"A quantidade de usuários que preferem '{method}' é: {countUserByMethod(users, method)}\")"
   ]
  }
 ],
 "metadata": {
  "kernelspec": {
   "display_name": "Python 3",
   "language": "python",
   "name": "python3"
  },
  "language_info": {
   "codemirror_mode": {
    "name": "ipython",
    "version": 3
   },
   "file_extension": ".py",
   "mimetype": "text/x-python",
   "name": "python",
   "nbconvert_exporter": "python",
   "pygments_lexer": "ipython3",
   "version": "3.6.10"
  }
 },
 "nbformat": 4,
 "nbformat_minor": 4
}
