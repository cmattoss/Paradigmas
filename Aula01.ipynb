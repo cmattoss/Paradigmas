{
 "cells": [
  {
   "cell_type": "markdown",
   "metadata": {},
   "source": [
    "1 - Faça um Programa que peça o raio de um círculo, calcule e mostre sua área.\""
   ]
  },
  {
   "cell_type": "code",
   "execution_count": 38,
   "metadata": {},
   "outputs": [
    {
     "name": "stdout",
     "output_type": "stream",
     "text": [
      "Insira o raio do círculo: 4\n",
      "A área do círculo é: 50.27m²\n"
     ]
    }
   ],
   "source": [
    "import math\n",
    "raio = float(input(\"Insira o raio do círculo: \"))\n",
    "area = math.pi*raio**2\n",
    "print(\"A área do círculo é: %.2fm²\" %area)"
   ]
  },
  {
   "cell_type": "markdown",
   "metadata": {},
   "source": [
    "2 - Faça um Programa que calcule a área de um quadrado, em seguida mostre o dobro desta área para o usuário."
   ]
  },
  {
   "cell_type": "code",
   "execution_count": 39,
   "metadata": {},
   "outputs": [
    {
     "name": "stdout",
     "output_type": "stream",
     "text": [
      "Insira o valor do lado do quadrado: 5\n",
      "A área do quadrado é: 25.00m²\n",
      "O dobro da área é: 50.00m²\n"
     ]
    }
   ],
   "source": [
    "lado = float(input(\"Insira o valor do lado do quadrado: \"))\n",
    "area = lado**2\n",
    "print(\"A área do quadrado é: %.2fm²\" %area)\n",
    "print(\"O dobro da área é: %.2fm²\" %(area*2))"
   ]
  },
  {
   "cell_type": "markdown",
   "metadata": {},
   "source": [
    "3 - Faça um Programa que pergunte quanto você ganha por hora e o número de horas trabalhadas no mês. Calcule e mostre o total do seu salário no referido mês."
   ]
  },
  {
   "cell_type": "code",
   "execution_count": 42,
   "metadata": {},
   "outputs": [
    {
     "name": "stdout",
     "output_type": "stream",
     "text": [
      "Digite o valor que você recebe por hora e em seguida o valor de horas trabalhadas no mês\n",
      "Insira o valor recebido por hora: 30.50\n",
      "Insira o valor de horas trabalhadas no mês: 40\n",
      "Seu salário é de: R$ 1220.00\n"
     ]
    }
   ],
   "source": [
    "print(\"Digite o valor que você recebe por hora e em seguida o valor de horas trabalhadas no mês\")\n",
    "valor_hora = float(input(\"Insira o valor recebido por hora: \"))\n",
    "horas = int(input(\"Insira o valor de horas trabalhadas no mês: \"))\n",
    "salario = valor_hora * horas\n",
    "print(\"Seu salário é de: R$ %.2f\" %salario)"
   ]
  },
  {
   "cell_type": "markdown",
   "metadata": {},
   "source": [
    "4 - Faça um Programa que peça a temperatura em graus Farenheit, transforme e mostre a temperatura em graus Celsius. C = (5 * (F-32) / 9)."
   ]
  },
  {
   "cell_type": "code",
   "execution_count": 46,
   "metadata": {},
   "outputs": [
    {
     "name": "stdout",
     "output_type": "stream",
     "text": [
      "Insira a temperatura em Farenheit: 56\n",
      "A temperatura em Celsius é: 13.33° C\n"
     ]
    }
   ],
   "source": [
    "farenheit = float(input(\"Insira a temperatura em Farenheit: \"))\n",
    "celsius = (5 * (farenheit-32) / 9)\n",
    "print(\"A temperatura em Celsius é: %.2f °C\" %celsius)"
   ]
  },
  {
   "cell_type": "markdown",
   "metadata": {},
   "source": [
    "5 - Faça um Programa que peça a temperatura em graus Celsius, transforme e mostre em graus Farenheit."
   ]
  },
  {
   "cell_type": "code",
   "execution_count": 47,
   "metadata": {},
   "outputs": [
    {
     "name": "stdout",
     "output_type": "stream",
     "text": [
      "Insira a temperatura em Celsius: 30.5\n",
      "A temperatura em Farenheit é: 86.90 °F\n"
     ]
    }
   ],
   "source": [
    "celsius = float(input(\"Insira a temperatura em Celsius: \"))\n",
    "farenheit = celsius*9/5 + 32\n",
    "print(\"A temperatura em Farenheit é: %.2f °F\" %farenheit)"
   ]
  },
  {
   "cell_type": "markdown",
   "metadata": {},
   "source": [
    "6 - Faça um Programa que peça 2 números inteiros e um número real. Calcule e mostre:\n",
    "- o produto do dobro do primeiro com metade do segundo .\n",
    "- a soma do triplo do primeiro com o terceiro.\n",
    "- o terceiro elevado ao cubo."
   ]
  },
  {
   "cell_type": "code",
   "execution_count": 48,
   "metadata": {},
   "outputs": [
    {
     "name": "stdout",
     "output_type": "stream",
     "text": [
      "Insira um número inteiro: 2\n",
      "Insira outro número inteiro: 3\n",
      "Insira um número real: 5.25\n",
      "O produto do dobro do primeiro com metade do segundo é: 6.00\n",
      "A soma do triplo do primeiro com o terceiro é: 11.25\n",
      "O terceiro elevado ao cubo é: 144.70\n"
     ]
    }
   ],
   "source": [
    "a = int(input(\"Insira um número inteiro: \"))\n",
    "b = int(input(\"Insira outro número inteiro: \"))\n",
    "r = float(input(\"Insira um número real: \"))\n",
    "res1 = (a*2) * (b/2)\n",
    "res2 = (a*3) + r\n",
    "res3 = r**3\n",
    "print(\"O produto do dobro do primeiro com metade do segundo é: %.2f\" %res1)\n",
    "print(\"A soma do triplo do primeiro com o terceiro é: %.2f\" %res2)\n",
    "print(\"O terceiro elevado ao cubo é: %.2f\" %res3)"
   ]
  },
  {
   "cell_type": "markdown",
   "metadata": {},
   "source": [
    "7 - João Papo-de-Pescador, homem de bem, comprou um microcomputador para controlar o rendimento diário de seu trabalho. Toda vez que ele traz um peso de peixes maior que o estabelecido pelo regulamento de pesca do estado de São Paulo (50 quilos) deve pagar uma multa de R$ 4,00 por quilo excedente. João precisa que você faça um programa que leia a variável peso (peso de peixes) e verifique se há excesso. Se houver, gravar na variável excesso e na variável multa o valor da multa que João deverá pagar. Caso contrário mostrar tais variáveis com o conteúdo ZERO."
   ]
  },
  {
   "cell_type": "code",
   "execution_count": 55,
   "metadata": {},
   "outputs": [
    {
     "name": "stdout",
     "output_type": "stream",
     "text": [
      "Insira o peso do peixe: 49\n",
      "O excesso foi de: 0.00Kg\n",
      "Você deve pagar multa de: R$ 0.00\n"
     ]
    }
   ],
   "source": [
    "peso_peixe = float(input(\"Insira o peso do peixe: \"))\n",
    "if peso_peixe > 50:\n",
    "    excesso = peso_peixe - 50\n",
    "    multa = 4*excesso\n",
    "    print(\"O excesso foi de : %.2fKg\" %excesso)\n",
    "    print(\"Você deve pagar multa de: R$ %.2f\" %multa)\n",
    "else:\n",
    "    print(\"O excesso foi de: %.2fKg\" %0.00)\n",
    "    print(\"Você deve pagar multa de: R$ %.2f\" %0.00)"
   ]
  },
  {
   "cell_type": "markdown",
   "metadata": {},
   "source": [
    "8 - Faça um Programa que pergunte quanto você ganha por hora e o número de horas trabalhadas no mês. Calcule e mostre o total do seu salário no referido mês, sabendo-se que são descontados 11% para o Imposto de Renda, 8% para o INSS e 5% para o  indicato, faça um programa que nos dê:\n",
    "- salário bruto.\n",
    "- quanto pagou ao INSS.\n",
    "- quanto pagou ao sindicato.\n",
    "- o salário líquido.\n",
    "- calcule os descontos e o salário líquido, conforme a tabela abaixo:\n",
    "    + Salário Bruto : R$\n",
    "    - IR (11%) : R$\n",
    "    - INSS (8%) : R$\n",
    "    - Sindicato ( 5%) : R$\n",
    "    = Salário Liquido : R$\n",
    "Obs.: Salário Bruto - Descontos = Salário Líquido."
   ]
  },
  {
   "cell_type": "code",
   "execution_count": 57,
   "metadata": {},
   "outputs": [
    {
     "name": "stdout",
     "output_type": "stream",
     "text": [
      "Digite o valor que você recebe por hora e em seguida o valor de horas trabalhadas no mês\n",
      "Insira o valor recebido por hora: 32.45\n",
      "Insira o valor de horas trabalhadas no mês: 44\n",
      "Seu salário bruto é de: R$ 1427.80\n",
      "Desconto Imposto de Renda: -R$ 157.06\n",
      "Desconto INSS: -R$ 114.22\n",
      "Desconto Sindicato: -R$ 71.39\n",
      "Seu salário líquido é de: R$ 1085.13\n"
     ]
    }
   ],
   "source": [
    "print(\"Digite o valor que você recebe por hora e em seguida o valor de horas trabalhadas no mês\")\n",
    "valor_hora = float(input(\"Insira o valor recebido por hora: \"))\n",
    "horas = int(input(\"Insira o valor de horas trabalhadas no mês: \"))\n",
    "salario_bruto = valor_hora * horas\n",
    "imposto_renda = salario_bruto * 11/100\n",
    "inss = salario_bruto * 8/100\n",
    "sindicato = salario_bruto * 5/100\n",
    "salario_liq = salario_bruto - (imposto_renda + inss + sindicato)\n",
    "print(\"Seu salário bruto é de: R$ %.2f\" %salario_bruto)\n",
    "print(\"Desconto Imposto de Renda: -R$ %.2f\" %imposto_renda)\n",
    "print(\"Desconto INSS: -R$ %.2f\" %inss)\n",
    "print(\"Desconto Sindicato: -R$ %.2f\" %sindicato)\n",
    "print(\"Seu salário líquido é de: R$ %.2f\" %salario_liq)"
   ]
  },
  {
   "cell_type": "markdown",
   "metadata": {},
   "source": [
    "9 - Faça um programa que leia 2 strings e informe o conteúdo delas seguido do seu comprimento. Informe também se as duas strings possuem o mesmo comprimento e são iguais ou diferentes no conteúdo.\n",
    "Exemplo:\n",
    "String 1: Brasil Hexa 2018\n",
    "String 2: Brasil! Hexa 2018!\n",
    "Tamanho de &quot;Brasil Hexa 2018&quot;: 16 caracteres\n",
    "Tamanho de &quot;Brasil! Hexa 2018!&quot;: 18 caracteres\n",
    "As duas strings são de tamanhos diferentes.\n",
    "As duas strings possuem conteúdo diferente."
   ]
  },
  {
   "cell_type": "code",
   "execution_count": 85,
   "metadata": {},
   "outputs": [
    {
     "name": "stdout",
     "output_type": "stream",
     "text": [
      "Insira uma String: Rafa\n",
      "Insira outra String: 1345\n",
      "String 1 'Rafa', possui 4 caractéres\n",
      "String 2 '1345', possui 4 caractéres\n",
      "As duas strings possuem conteúdo diferente\n"
     ]
    }
   ],
   "source": [
    "s1 = input(\"Insira uma String: \")\n",
    "s2 = input(\"Insira outra String: \")\n",
    "print(\"String 1 '{0}', possui {1} caractéres\".format(s1, len(s1)))\n",
    "print(\"String 2 '{0}', possui {1} caractéres\".format(s2, len(s2)))\n",
    "if len(s1)!=len(s2):\n",
    "    print(\"As duas strings são de tamanhos diferentes\")\n",
    "else:\n",
    "    if s1==s2:\n",
    "        print(\"As duas strings são iguais\")\n",
    "    else:\n",
    "        print(\"As duas strings possuem conteúdo diferente\")"
   ]
  },
  {
   "cell_type": "markdown",
   "metadata": {},
   "source": [
    "10 - Faça um programa que permita ao usuário digitar o seu nome e em seguida mostre o nome do usuário de trás para frente utilizando somente letras maiúsculas.\n",
    "Dica: lembre−se que ao informar o nome o usuário pode digitar letras maiúsculas ou minúsculas. Observação: não use loops."
   ]
  },
  {
   "cell_type": "code",
   "execution_count": 90,
   "metadata": {},
   "outputs": [
    {
     "name": "stdout",
     "output_type": "stream",
     "text": [
      "Digite seu nome: Rafael Sanches\n",
      "O seu nome ao contrário e maiúsulo fica: SEHCNAS LEAFAR\n"
     ]
    }
   ],
   "source": [
    "nome = input(\"Digite seu nome: \")\n",
    "inverso = nome[::-1].upper()\n",
    "print(\"O seu nome ao contrário e maiúsulo fica: %s\" %inverso)"
   ]
  },
  {
   "cell_type": "markdown",
   "metadata": {},
   "source": [
    "11 - Faça um programa que solicite a data de nascimento (dd/mm/aaaa) do usuário e imprima a data com o nome do mês por extenso.\n",
    "Data de Nascimento: 29/10/1973\n",
    "Você nasceu em 29 de Outubro de 1973.\n",
    "Obs.: Não use desvio condicional nem loops."
   ]
  },
  {
   "cell_type": "code",
   "execution_count": 116,
   "metadata": {},
   "outputs": [
    {
     "name": "stdout",
     "output_type": "stream",
     "text": [
      "Digite sua data de nascimento no formato (dd/mm/aaaa): 12/05/1975\n",
      "Você nasceu em 12 de maio de 1975\n"
     ]
    }
   ],
   "source": [
    "import calendar\n",
    "import locale\n",
    "locale.setlocale(locale.LC_ALL, 'pt_BR')\n",
    "data_nasc = input(\"Digite sua data de nascimento no formato (dd/mm/aaaa): \")\n",
    "dia = data_nasc[:2]\n",
    "mes = data_nasc[3:5]\n",
    "mes_escrito = calendar.month_name[int(mes)]\n",
    "ano = data_nasc[6:len(data_nasc)]\n",
    "print(\"Você nasceu em {} de {} de {}\".format(dia, mes_escrito, ano))"
   ]
  },
  {
   "cell_type": "markdown",
   "metadata": {},
   "source": [
    "12 - Leet é uma forma de se escrever o alfabeto latino usando outros símbolos em lugar das letras, como números por exemplo. A própria palavra leet admite muitas variações, como l33t ou 1337. O uso do leet reflete uma subcultura relacionada ao mundo dos jogos de computador e internet, sendo muito usada para confundir os iniciantes e afirmar-se como parte de um grupo. Pesquise sobre as principais formas de traduzir as letras. Depois, faça um programa que peça uma texto e transforme-o para a grafia leet speak.\n",
    "Desafio: não use loops nem desvios condicionais."
   ]
  },
  {
   "cell_type": "code",
   "execution_count": 163,
   "metadata": {},
   "outputs": [
    {
     "name": "stdout",
     "output_type": "stream",
     "text": [
      "Digite um texto para traduzir para Leet: safkskfopkeqopkopwqurfikadfmsavksnf\n",
      "54|>[-]]{5]{|>[-]0|>]{ê90|>]{0|>(n)9|_|[z|>[-]!]{4|0|>[-][V]54V]{5/|/|>[-]\n"
     ]
    }
   ],
   "source": [
    "# from string import maketrans\n",
    "# entrada = 'abcdefghijklmnopqrstuvwxyz0123456789'\n",
    "# saida   = '48<>3'\n",
    "# tabela = maketrans(entrada, saida)\n",
    "# s = raw_input('Digite uma frase para ser convertida para leet:')\n",
    "# print s.translate(tabela)\n",
    "\n",
    "\n",
    "# import string\n",
    "# texto = input(\"Insira um texto para traduzir para Leet: \")\n",
    "# lista = list(string.ascii_lowercase)\n",
    "# lista[0] = string.replace(\"a\", \"4\")\n",
    "# lista[1] = \"8\"\n",
    "# print(lista)\n",
    "# print (texto)\n",
    "\n",
    "# import random\n",
    "# texto = input(\"Insira um texto para traduzir para Leet: \")\n",
    "# exemplo = {teste:[\"4\", \"/\\\", \"@\", \"/-\\\", \"^\", \"ä\", \"ª\"]}\n",
    "# print(random.sample(exemplo[teste]))\n",
    "# # print(random.sample(a, k=1))\n",
    "# Exemplo = {teste:[\"a\",\"b\",\"c\"]}\n",
    "# Randon.sample(Exemplo.teste)\n",
    "                  \n",
    "# import random;\n",
    "# texto = input(\"Insira um texto para traduzir para Leet: \")\n",
    "# alfabeto = {\n",
    "#   \"a\":[\"4\",'@'],\n",
    "#   \"b\":[\"z\",\"x\",\"c\"]\n",
    "# }\n",
    "\n",
    "# letra = \"a\"\n",
    "\n",
    "# print(random.sample(alfabeto[texto], k=1))\n",
    "\n",
    "# print(list(\"teste\"))\n",
    "\n",
    "# it = iter(\"teste\")\n",
    "# print(it)\n",
    "import random\n",
    "import string\n",
    "texto = input(\"Digite um texto para traduzir para Leet: \")\n",
    "\n",
    "alfabeto = {\n",
    "    \"a\":[\"4\",\"@\"],\n",
    "    \"b\":[\"8\", \"ß\"],\n",
    "    \"c\":['[', '¢', '<', '('],\n",
    "    \"d\":['|)', '|o', '[)', 'I>', '|>'],\n",
    "    \"e\":['3', '&', '£', 'ë', '€', 'ê'],\n",
    "    \"f\":['|=', 'ph', '|#'],\n",
    "    \"g\":['6', '9'],\n",
    "    \"h\":['/-/', '[-]', '{=}', '<~>', '|-|'],\n",
    "    \"i\":['1', '!', '|'],\n",
    "    \"j\":['_/'],\n",
    "    \"k\":['|<', '|{', ']{', '}<', '|('],\n",
    "    \"l\":[\"1_\", '|_'],\n",
    "    \"m\":['|v|', '[V]', '{V}', '(u)', '(V)', 'IVI'],\n",
    "    \"n\":[\"/|/\"],\n",
    "    \"o\":[\"0\"],\n",
    "    \"p\":['|^', '|*', '|o', '|>', '|\"', ']D', '|°', '|7'],\n",
    "    \"q\":['q', '9'],\n",
    "    \"r\":['|2', '|?', 'lz', '[z', '12'],\n",
    "    \"s\":['5', '$', 'z', '§'],\n",
    "    \"t\":[\"'|'\", '\"|\"'],\n",
    "    \"u\":['(_)', '|_|'],\n",
    "    \"v\":[\"v\",'u','V'],\n",
    "    \"w\":['(n)', \"v'v\"],\n",
    "    \"x\":['><'],\n",
    "    \"y\":['Y', 'j', '¥'],\n",
    "    \"z\":['2', 'z', '%']\n",
    "}\n",
    "a = str(random.sample(alfabeto[\"a\"], k=1))\n",
    "b = str(random.sample(alfabeto[\"b\"], k=1))\n",
    "c = str(random.sample(alfabeto[\"c\"], k=1))\n",
    "d = str(random.sample(alfabeto[\"d\"], k=1))\n",
    "e = str(random.sample(alfabeto[\"e\"], k=1))\n",
    "f = str(random.sample(alfabeto[\"f\"], k=1))\n",
    "g = str(random.sample(alfabeto[\"g\"], k=1))\n",
    "h = str(random.sample(alfabeto[\"h\"], k=1))\n",
    "i = str(random.sample(alfabeto[\"i\"], k=1))\n",
    "j = str(random.sample(alfabeto[\"j\"], k=1))\n",
    "k = str(random.sample(alfabeto[\"k\"], k=1))\n",
    "l = str(random.sample(alfabeto[\"l\"], k=1))\n",
    "m = str(random.sample(alfabeto[\"m\"], k=1))\n",
    "n = str(random.sample(alfabeto[\"n\"], k=1))\n",
    "o = str(random.sample(alfabeto[\"o\"], k=1))\n",
    "p = str(random.sample(alfabeto[\"p\"], k=1))\n",
    "q = str(random.sample(alfabeto[\"q\"], k=1))\n",
    "r = str(random.sample(alfabeto[\"r\"], k=1))\n",
    "s = str(random.sample(alfabeto[\"s\"], k=1))\n",
    "t = str(random.sample(alfabeto[\"t\"], k=1))\n",
    "u = str(random.sample(alfabeto[\"u\"], k=1))\n",
    "v = str(random.sample(alfabeto[\"v\"], k=1))\n",
    "w = str(random.sample(alfabeto[\"w\"], k=1))\n",
    "x = str(random.sample(alfabeto[\"x\"], k=1))\n",
    "y = str(random.sample(alfabeto[\"y\"], k=1))\n",
    "z = str(random.sample(alfabeto[\"z\"], k=1))\n",
    "texto = texto.replace(\"a\", a[2:3])\n",
    "texto = texto.replace(\"b\", b[2:3])\n",
    "texto = texto.replace(\"c\", c[2:3])\n",
    "texto = texto.replace(\"d\", d[2:4])\n",
    "texto = texto.replace(\"e\", e[2:3])\n",
    "texto = texto.replace(\"f\", f[2:4])\n",
    "texto = texto.replace(\"g\", g[2:3])\n",
    "texto = texto.replace(\"h\", h[2:5])\n",
    "texto = texto.replace(\"i\", i[2:3])\n",
    "texto = texto.replace(\"j\", j[2:4])\n",
    "texto = texto.replace(\"k\", k[2:4])\n",
    "texto = texto.replace(\"l\", l[2:4])\n",
    "texto = texto.replace(\"m\", m[2:5])\n",
    "texto = texto.replace(\"n\", n[2:5])\n",
    "texto = texto.replace(\"o\", o[2:3])\n",
    "texto = texto.replace(\"p\", p[2:4])\n",
    "texto = texto.replace(\"q\", q[2:3])\n",
    "texto = texto.replace(\"r\", r[2:4])\n",
    "texto = texto.replace(\"s\", s[2:3])\n",
    "texto = texto.replace(\"t\", t[2:5])\n",
    "texto = texto.replace(\"u\", u[2:5])\n",
    "texto = texto.replace(\"v\", v[2:3])\n",
    "texto = texto.replace(\"w\", w[2:5])\n",
    "texto = texto.replace(\"x\", x[2:4])\n",
    "texto = texto.replace(\"y\", y[2:3])\n",
    "texto = texto.replace(\"z\", z[2:3])\n",
    "\n",
    "print (texto)"
   ]
  }
 ],
 "metadata": {
  "kernelspec": {
   "display_name": "Python 3",
   "language": "python",
   "name": "python3"
  },
  "language_info": {
   "codemirror_mode": {
    "name": "ipython",
    "version": 3
   },
   "file_extension": ".py",
   "mimetype": "text/x-python",
   "name": "python",
   "nbconvert_exporter": "python",
   "pygments_lexer": "ipython3",
   "version": "3.7.4"
  }
 },
 "nbformat": 4,
 "nbformat_minor": 2
}
